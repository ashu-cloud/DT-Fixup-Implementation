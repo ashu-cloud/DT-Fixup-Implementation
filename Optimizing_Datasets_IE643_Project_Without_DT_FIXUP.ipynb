{
  "nbformat": 4,
  "nbformat_minor": 0,
  "metadata": {
    "accelerator": "GPU",
    "colab": {
      "provenance": []
    },
    "kernelspec": {
      "display_name": "Python 3",
      "name": "python3"
    },
    "language_info": {
      "name": "python"
    },
    "widgets": {
      "application/vnd.jupyter.widget-state+json": {
        "3cfdc4f895cc4c069dc480eaa8a53482": {
          "model_module": "@jupyter-widgets/controls",
          "model_name": "HBoxModel",
          "model_module_version": "1.5.0",
          "state": {
            "_view_name": "HBoxView",
            "_dom_classes": [],
            "_model_name": "HBoxModel",
            "_view_module": "@jupyter-widgets/controls",
            "_model_module_version": "1.5.0",
            "_view_count": null,
            "_view_module_version": "1.5.0",
            "box_style": "",
            "layout": "IPY_MODEL_40621a6e71ab450ba36e6c372d141130",
            "_model_module": "@jupyter-widgets/controls",
            "children": [
              "IPY_MODEL_bed997e07bb945029720a7636ec08c99",
              "IPY_MODEL_7990dcf933e942d6b20cc185d788f1ca",
              "IPY_MODEL_713d34405d9344478532ed0ce1e62700"
            ]
          }
        },
        "40621a6e71ab450ba36e6c372d141130": {
          "model_module": "@jupyter-widgets/base",
          "model_name": "LayoutModel",
          "model_module_version": "1.2.0",
          "state": {
            "_view_name": "LayoutView",
            "grid_template_rows": null,
            "right": null,
            "justify_content": null,
            "_view_module": "@jupyter-widgets/base",
            "overflow": null,
            "_model_module_version": "1.2.0",
            "_view_count": null,
            "flex_flow": null,
            "width": null,
            "min_width": null,
            "border": null,
            "align_items": null,
            "bottom": null,
            "_model_module": "@jupyter-widgets/base",
            "top": null,
            "grid_column": null,
            "overflow_y": null,
            "overflow_x": null,
            "grid_auto_flow": null,
            "grid_area": null,
            "grid_template_columns": null,
            "flex": null,
            "_model_name": "LayoutModel",
            "justify_items": null,
            "grid_row": null,
            "max_height": null,
            "align_content": null,
            "visibility": null,
            "align_self": null,
            "height": null,
            "min_height": null,
            "padding": null,
            "grid_auto_rows": null,
            "grid_gap": null,
            "max_width": null,
            "order": null,
            "_view_module_version": "1.2.0",
            "grid_template_areas": null,
            "object_position": null,
            "object_fit": null,
            "grid_auto_columns": null,
            "margin": null,
            "display": null,
            "left": null
          }
        },
        "bed997e07bb945029720a7636ec08c99": {
          "model_module": "@jupyter-widgets/controls",
          "model_name": "HTMLModel",
          "model_module_version": "1.5.0",
          "state": {
            "_view_name": "HTMLView",
            "style": "IPY_MODEL_49c5588e4c624436a8459e259f311432",
            "_dom_classes": [],
            "description": "",
            "_model_name": "HTMLModel",
            "placeholder": "​",
            "_view_module": "@jupyter-widgets/controls",
            "_model_module_version": "1.5.0",
            "value": "100%",
            "_view_count": null,
            "_view_module_version": "1.5.0",
            "description_tooltip": null,
            "_model_module": "@jupyter-widgets/controls",
            "layout": "IPY_MODEL_1392273e8cd74e34873a5aa065d36f3d"
          }
        },
        "7990dcf933e942d6b20cc185d788f1ca": {
          "model_module": "@jupyter-widgets/controls",
          "model_name": "FloatProgressModel",
          "model_module_version": "1.5.0",
          "state": {
            "_view_name": "ProgressView",
            "style": "IPY_MODEL_4b72e0234ba84aec84ff8d2a1d9e330b",
            "_dom_classes": [],
            "description": "",
            "_model_name": "FloatProgressModel",
            "bar_style": "success",
            "max": 2,
            "_view_module": "@jupyter-widgets/controls",
            "_model_module_version": "1.5.0",
            "value": 2,
            "_view_count": null,
            "_view_module_version": "1.5.0",
            "orientation": "horizontal",
            "min": 0,
            "description_tooltip": null,
            "_model_module": "@jupyter-widgets/controls",
            "layout": "IPY_MODEL_a3fdf12ccab648f6a775fec253a49af5"
          }
        },
        "713d34405d9344478532ed0ce1e62700": {
          "model_module": "@jupyter-widgets/controls",
          "model_name": "HTMLModel",
          "model_module_version": "1.5.0",
          "state": {
            "_view_name": "HTMLView",
            "style": "IPY_MODEL_8a8103f0357041f1a2acd466468a9c14",
            "_dom_classes": [],
            "description": "",
            "_model_name": "HTMLModel",
            "placeholder": "​",
            "_view_module": "@jupyter-widgets/controls",
            "_model_module_version": "1.5.0",
            "value": " 2/2 [00:00&lt;00:00, 34.72it/s]",
            "_view_count": null,
            "_view_module_version": "1.5.0",
            "description_tooltip": null,
            "_model_module": "@jupyter-widgets/controls",
            "layout": "IPY_MODEL_a8cdc1158c8548a4847b7f5ef783ec31"
          }
        },
        "49c5588e4c624436a8459e259f311432": {
          "model_module": "@jupyter-widgets/controls",
          "model_name": "DescriptionStyleModel",
          "model_module_version": "1.5.0",
          "state": {
            "_view_name": "StyleView",
            "_model_name": "DescriptionStyleModel",
            "description_width": "",
            "_view_module": "@jupyter-widgets/base",
            "_model_module_version": "1.5.0",
            "_view_count": null,
            "_view_module_version": "1.2.0",
            "_model_module": "@jupyter-widgets/controls"
          }
        },
        "1392273e8cd74e34873a5aa065d36f3d": {
          "model_module": "@jupyter-widgets/base",
          "model_name": "LayoutModel",
          "model_module_version": "1.2.0",
          "state": {
            "_view_name": "LayoutView",
            "grid_template_rows": null,
            "right": null,
            "justify_content": null,
            "_view_module": "@jupyter-widgets/base",
            "overflow": null,
            "_model_module_version": "1.2.0",
            "_view_count": null,
            "flex_flow": null,
            "width": null,
            "min_width": null,
            "border": null,
            "align_items": null,
            "bottom": null,
            "_model_module": "@jupyter-widgets/base",
            "top": null,
            "grid_column": null,
            "overflow_y": null,
            "overflow_x": null,
            "grid_auto_flow": null,
            "grid_area": null,
            "grid_template_columns": null,
            "flex": null,
            "_model_name": "LayoutModel",
            "justify_items": null,
            "grid_row": null,
            "max_height": null,
            "align_content": null,
            "visibility": null,
            "align_self": null,
            "height": null,
            "min_height": null,
            "padding": null,
            "grid_auto_rows": null,
            "grid_gap": null,
            "max_width": null,
            "order": null,
            "_view_module_version": "1.2.0",
            "grid_template_areas": null,
            "object_position": null,
            "object_fit": null,
            "grid_auto_columns": null,
            "margin": null,
            "display": null,
            "left": null
          }
        },
        "4b72e0234ba84aec84ff8d2a1d9e330b": {
          "model_module": "@jupyter-widgets/controls",
          "model_name": "ProgressStyleModel",
          "model_module_version": "1.5.0",
          "state": {
            "_view_name": "StyleView",
            "_model_name": "ProgressStyleModel",
            "description_width": "",
            "_view_module": "@jupyter-widgets/base",
            "_model_module_version": "1.5.0",
            "_view_count": null,
            "_view_module_version": "1.2.0",
            "bar_color": null,
            "_model_module": "@jupyter-widgets/controls"
          }
        },
        "a3fdf12ccab648f6a775fec253a49af5": {
          "model_module": "@jupyter-widgets/base",
          "model_name": "LayoutModel",
          "model_module_version": "1.2.0",
          "state": {
            "_view_name": "LayoutView",
            "grid_template_rows": null,
            "right": null,
            "justify_content": null,
            "_view_module": "@jupyter-widgets/base",
            "overflow": null,
            "_model_module_version": "1.2.0",
            "_view_count": null,
            "flex_flow": null,
            "width": null,
            "min_width": null,
            "border": null,
            "align_items": null,
            "bottom": null,
            "_model_module": "@jupyter-widgets/base",
            "top": null,
            "grid_column": null,
            "overflow_y": null,
            "overflow_x": null,
            "grid_auto_flow": null,
            "grid_area": null,
            "grid_template_columns": null,
            "flex": null,
            "_model_name": "LayoutModel",
            "justify_items": null,
            "grid_row": null,
            "max_height": null,
            "align_content": null,
            "visibility": null,
            "align_self": null,
            "height": null,
            "min_height": null,
            "padding": null,
            "grid_auto_rows": null,
            "grid_gap": null,
            "max_width": null,
            "order": null,
            "_view_module_version": "1.2.0",
            "grid_template_areas": null,
            "object_position": null,
            "object_fit": null,
            "grid_auto_columns": null,
            "margin": null,
            "display": null,
            "left": null
          }
        },
        "8a8103f0357041f1a2acd466468a9c14": {
          "model_module": "@jupyter-widgets/controls",
          "model_name": "DescriptionStyleModel",
          "model_module_version": "1.5.0",
          "state": {
            "_view_name": "StyleView",
            "_model_name": "DescriptionStyleModel",
            "description_width": "",
            "_view_module": "@jupyter-widgets/base",
            "_model_module_version": "1.5.0",
            "_view_count": null,
            "_view_module_version": "1.2.0",
            "_model_module": "@jupyter-widgets/controls"
          }
        },
        "a8cdc1158c8548a4847b7f5ef783ec31": {
          "model_module": "@jupyter-widgets/base",
          "model_name": "LayoutModel",
          "model_module_version": "1.2.0",
          "state": {
            "_view_name": "LayoutView",
            "grid_template_rows": null,
            "right": null,
            "justify_content": null,
            "_view_module": "@jupyter-widgets/base",
            "overflow": null,
            "_model_module_version": "1.2.0",
            "_view_count": null,
            "flex_flow": null,
            "width": null,
            "min_width": null,
            "border": null,
            "align_items": null,
            "bottom": null,
            "_model_module": "@jupyter-widgets/base",
            "top": null,
            "grid_column": null,
            "overflow_y": null,
            "overflow_x": null,
            "grid_auto_flow": null,
            "grid_area": null,
            "grid_template_columns": null,
            "flex": null,
            "_model_name": "LayoutModel",
            "justify_items": null,
            "grid_row": null,
            "max_height": null,
            "align_content": null,
            "visibility": null,
            "align_self": null,
            "height": null,
            "min_height": null,
            "padding": null,
            "grid_auto_rows": null,
            "grid_gap": null,
            "max_width": null,
            "order": null,
            "_view_module_version": "1.2.0",
            "grid_template_areas": null,
            "object_position": null,
            "object_fit": null,
            "grid_auto_columns": null,
            "margin": null,
            "display": null,
            "left": null
          }
        }
      }
    }
  },
  "cells": [
    {
      "cell_type": "markdown",
      "metadata": {
        "id": "EimJmJ9uJYso"
      },
      "source": [
        "Import dataset."
      ]
    },
    {
      "cell_type": "code",
      "metadata": {
        "colab": {
          "base_uri": "https://localhost:8080/"
        },
        "id": "3uXdLMxMhPpI",
        "outputId": "5c9ad2a0-5557-4c2a-f591-5af86f245433"
      },
      "source": [
        "!pip install datasets\n",
        "\n",
        "from datasets import load_dataset\n",
        "from torch.utils.data import Dataset\n",
        "import copy\n",
        "import spacy\n",
        "import torchtext\n",
        "from torchtext.legacy.data import Field, BucketIterator, TabularDataset\n",
        "import pandas as pd\n",
        "from sklearn.model_selection import train_test_split\n",
        "import numpy as np\n",
        "import tensorflow as tf\n",
        "import torch\n",
        "from tensorflow import keras\n",
        "import math\n",
        "import torch.nn as nn\n",
        "from torch.autograd import Variable\n",
        "import time\n",
        "import torch.nn.functional as F"
      ],
      "execution_count": null,
      "outputs": [
        {
          "output_type": "stream",
          "name": "stdout",
          "text": [
            "Requirement already satisfied: datasets in /usr/local/lib/python3.7/dist-packages (1.16.1)\n",
            "Requirement already satisfied: requests>=2.19.0 in /usr/local/lib/python3.7/dist-packages (from datasets) (2.23.0)\n",
            "Requirement already satisfied: aiohttp in /usr/local/lib/python3.7/dist-packages (from datasets) (3.8.1)\n",
            "Requirement already satisfied: importlib-metadata in /usr/local/lib/python3.7/dist-packages (from datasets) (4.8.2)\n",
            "Requirement already satisfied: packaging in /usr/local/lib/python3.7/dist-packages (from datasets) (21.3)\n",
            "Requirement already satisfied: tqdm>=4.62.1 in /usr/local/lib/python3.7/dist-packages (from datasets) (4.62.3)\n",
            "Requirement already satisfied: dill in /usr/local/lib/python3.7/dist-packages (from datasets) (0.3.4)\n",
            "Requirement already satisfied: multiprocess in /usr/local/lib/python3.7/dist-packages (from datasets) (0.70.12.2)\n",
            "Requirement already satisfied: xxhash in /usr/local/lib/python3.7/dist-packages (from datasets) (2.0.2)\n",
            "Requirement already satisfied: pyarrow!=4.0.0,>=3.0.0 in /usr/local/lib/python3.7/dist-packages (from datasets) (3.0.0)\n",
            "Requirement already satisfied: fsspec[http]>=2021.05.0 in /usr/local/lib/python3.7/dist-packages (from datasets) (2021.11.1)\n",
            "Requirement already satisfied: huggingface-hub<1.0.0,>=0.1.0 in /usr/local/lib/python3.7/dist-packages (from datasets) (0.1.2)\n",
            "Requirement already satisfied: numpy>=1.17 in /usr/local/lib/python3.7/dist-packages (from datasets) (1.19.5)\n",
            "Requirement already satisfied: pandas in /usr/local/lib/python3.7/dist-packages (from datasets) (1.1.5)\n",
            "Requirement already satisfied: pyyaml in /usr/local/lib/python3.7/dist-packages (from huggingface-hub<1.0.0,>=0.1.0->datasets) (3.13)\n",
            "Requirement already satisfied: typing-extensions>=3.7.4.3 in /usr/local/lib/python3.7/dist-packages (from huggingface-hub<1.0.0,>=0.1.0->datasets) (3.10.0.2)\n",
            "Requirement already satisfied: filelock in /usr/local/lib/python3.7/dist-packages (from huggingface-hub<1.0.0,>=0.1.0->datasets) (3.4.0)\n",
            "Requirement already satisfied: pyparsing!=3.0.5,>=2.0.2 in /usr/local/lib/python3.7/dist-packages (from packaging->datasets) (3.0.6)\n",
            "Requirement already satisfied: chardet<4,>=3.0.2 in /usr/local/lib/python3.7/dist-packages (from requests>=2.19.0->datasets) (3.0.4)\n",
            "Requirement already satisfied: idna<3,>=2.5 in /usr/local/lib/python3.7/dist-packages (from requests>=2.19.0->datasets) (2.10)\n",
            "Requirement already satisfied: certifi>=2017.4.17 in /usr/local/lib/python3.7/dist-packages (from requests>=2.19.0->datasets) (2021.10.8)\n",
            "Requirement already satisfied: urllib3!=1.25.0,!=1.25.1,<1.26,>=1.21.1 in /usr/local/lib/python3.7/dist-packages (from requests>=2.19.0->datasets) (1.24.3)\n",
            "Requirement already satisfied: attrs>=17.3.0 in /usr/local/lib/python3.7/dist-packages (from aiohttp->datasets) (21.2.0)\n",
            "Requirement already satisfied: charset-normalizer<3.0,>=2.0 in /usr/local/lib/python3.7/dist-packages (from aiohttp->datasets) (2.0.7)\n",
            "Requirement already satisfied: multidict<7.0,>=4.5 in /usr/local/lib/python3.7/dist-packages (from aiohttp->datasets) (5.2.0)\n",
            "Requirement already satisfied: aiosignal>=1.1.2 in /usr/local/lib/python3.7/dist-packages (from aiohttp->datasets) (1.2.0)\n",
            "Requirement already satisfied: yarl<2.0,>=1.0 in /usr/local/lib/python3.7/dist-packages (from aiohttp->datasets) (1.7.2)\n",
            "Requirement already satisfied: async-timeout<5.0,>=4.0.0a3 in /usr/local/lib/python3.7/dist-packages (from aiohttp->datasets) (4.0.1)\n",
            "Requirement already satisfied: asynctest==0.13.0 in /usr/local/lib/python3.7/dist-packages (from aiohttp->datasets) (0.13.0)\n",
            "Requirement already satisfied: frozenlist>=1.1.1 in /usr/local/lib/python3.7/dist-packages (from aiohttp->datasets) (1.2.0)\n",
            "Requirement already satisfied: zipp>=0.5 in /usr/local/lib/python3.7/dist-packages (from importlib-metadata->datasets) (3.6.0)\n",
            "Requirement already satisfied: python-dateutil>=2.7.3 in /usr/local/lib/python3.7/dist-packages (from pandas->datasets) (2.8.2)\n",
            "Requirement already satisfied: pytz>=2017.2 in /usr/local/lib/python3.7/dist-packages (from pandas->datasets) (2018.9)\n",
            "Requirement already satisfied: six>=1.5 in /usr/local/lib/python3.7/dist-packages (from python-dateutil>=2.7.3->pandas->datasets) (1.15.0)\n"
          ]
        }
      ]
    },
    {
      "cell_type": "code",
      "metadata": {
        "colab": {
          "base_uri": "https://localhost:8080/"
        },
        "id": "5yFi51E-RZMc",
        "outputId": "794265dc-e541-4c9c-d151-0f8f6c8d6f44"
      },
      "source": [
        "device = \"cuda\" #torch.device(\"cuda\" if torch.cuda.is_available() else \"cpu\")\n",
        "print(device)"
      ],
      "execution_count": null,
      "outputs": [
        {
          "output_type": "stream",
          "name": "stdout",
          "text": [
            "cuda\n"
          ]
        }
      ]
    },
    {
      "cell_type": "code",
      "metadata": {
        "id": "gH_isjzsckOG"
      },
      "source": [
        "en = spacy.load('en')\n",
        "#ro = spacy.load('ro_core_news_sm')\n",
        "def tokenize_en(sentence):\n",
        "    return [tok.text for tok in en.tokenizer(sentence)]\n",
        "#def tokenize_fr(sentence):\n",
        "#    return [tok.text for tok in fr.tokenizer(sentence)]\n",
        "EN_TEXT = Field(tokenize=tokenize_en)\n",
        "SQL_TEXT = Field(tokenize=tokenize_en)\n",
        "#FR_TEXT = Field(tokenize=tokenize_fr, init_token = \"<sos>\", eos_token = \"<eos>\")"
      ],
      "execution_count": null,
      "outputs": []
    },
    {
      "cell_type": "markdown",
      "metadata": {
        "id": "lJtAhoRxJg2U"
      },
      "source": [
        "We work on the spider data-set, convert format into: query -> answer"
      ]
    },
    {
      "cell_type": "code",
      "metadata": {
        "colab": {
          "base_uri": "https://localhost:8080/",
          "height": 66,
          "referenced_widgets": [
            "3cfdc4f895cc4c069dc480eaa8a53482",
            "40621a6e71ab450ba36e6c372d141130",
            "bed997e07bb945029720a7636ec08c99",
            "7990dcf933e942d6b20cc185d788f1ca",
            "713d34405d9344478532ed0ce1e62700",
            "49c5588e4c624436a8459e259f311432",
            "1392273e8cd74e34873a5aa065d36f3d",
            "4b72e0234ba84aec84ff8d2a1d9e330b",
            "a3fdf12ccab648f6a775fec253a49af5",
            "8a8103f0357041f1a2acd466468a9c14",
            "a8cdc1158c8548a4847b7f5ef783ec31"
          ]
        },
        "id": "67BQzXTQJpSM",
        "outputId": "b9a131cb-0f49-4036-f294-c9039bb4b908"
      },
      "source": [
        "spider = load_dataset('spider')\n"
      ],
      "execution_count": null,
      "outputs": [
        {
          "output_type": "stream",
          "name": "stderr",
          "text": [
            "Reusing dataset spider (/root/.cache/huggingface/datasets/spider/spider/1.0.0/79778ebea87c59b19411f1eb3eda317e9dd5f7788a556d837ef25c3ae6e5e8b7)\n"
          ]
        },
        {
          "output_type": "display_data",
          "data": {
            "application/vnd.jupyter.widget-view+json": {
              "model_id": "3cfdc4f895cc4c069dc480eaa8a53482",
              "version_minor": 0,
              "version_major": 2
            },
            "text/plain": [
              "  0%|          | 0/2 [00:00<?, ?it/s]"
            ]
          },
          "metadata": {}
        }
      ]
    },
    {
      "cell_type": "code",
      "metadata": {
        "colab": {
          "base_uri": "https://localhost:8080/"
        },
        "id": "EJMlyhvVSL80",
        "outputId": "3b675214-8ba8-4e81-ec7a-095ed5036e60"
      },
      "source": [
        "train_set = spider.get('train')\n",
        "tokenize_en(train_set[1]['query'])"
      ],
      "execution_count": null,
      "outputs": [
        {
          "output_type": "execute_result",
          "data": {
            "text/plain": [
              "['SELECT',\n",
              " 'name',\n",
              " ',',\n",
              " ' ',\n",
              " 'born_state',\n",
              " ',',\n",
              " ' ',\n",
              " 'age',\n",
              " 'FROM',\n",
              " 'head',\n",
              " 'ORDER',\n",
              " 'BY',\n",
              " 'age']"
            ]
          },
          "metadata": {},
          "execution_count": 5
        }
      ]
    },
    {
      "cell_type": "code",
      "metadata": {
        "id": "fm-5v6Tyna_Y"
      },
      "source": [
        "raw_data = {'Text' : [line for line in train_set['question']], 'SQL': [line for line in train_set['query']]}\n",
        "df = pd.DataFrame(raw_data, columns=[\"Text\", \"SQL\"])\n",
        "# remove very long sentences and sentences where translations are \n",
        "# not of roughly equal length\n",
        "df['text_len'] = df['Text'].str.count(' ')\n",
        "df['sql_len'] = df['SQL'].str.count(' ')\n",
        "#removing very long queries and questions \n",
        "df = df.query('sql_len < 80 & text_len < 80')\n",
        "df = df.query('sql_len < text_len * 1.5 & sql_len * 1.5 > text_len')"
      ],
      "execution_count": null,
      "outputs": []
    },
    {
      "cell_type": "code",
      "metadata": {
        "colab": {
          "base_uri": "https://localhost:8080/",
          "height": 423
        },
        "id": "nWzkJF2KoA6J",
        "outputId": "f38f3644-ce8d-4c02-8883-751479fdbb20"
      },
      "source": [
        "df"
      ],
      "execution_count": null,
      "outputs": [
        {
          "output_type": "execute_result",
          "data": {
            "text/html": [
              "<div>\n",
              "<style scoped>\n",
              "    .dataframe tbody tr th:only-of-type {\n",
              "        vertical-align: middle;\n",
              "    }\n",
              "\n",
              "    .dataframe tbody tr th {\n",
              "        vertical-align: top;\n",
              "    }\n",
              "\n",
              "    .dataframe thead th {\n",
              "        text-align: right;\n",
              "    }\n",
              "</style>\n",
              "<table border=\"1\" class=\"dataframe\">\n",
              "  <thead>\n",
              "    <tr style=\"text-align: right;\">\n",
              "      <th></th>\n",
              "      <th>Text</th>\n",
              "      <th>SQL</th>\n",
              "      <th>text_len</th>\n",
              "      <th>sql_len</th>\n",
              "    </tr>\n",
              "  </thead>\n",
              "  <tbody>\n",
              "    <tr>\n",
              "      <th>0</th>\n",
              "      <td>How many heads of the departments are older th...</td>\n",
              "      <td>SELECT count(*) FROM head WHERE age  &gt;  56</td>\n",
              "      <td>10</td>\n",
              "      <td>9</td>\n",
              "    </tr>\n",
              "    <tr>\n",
              "      <th>1</th>\n",
              "      <td>List the name, born state and age of the heads...</td>\n",
              "      <td>SELECT name ,  born_state ,  age FROM head ORD...</td>\n",
              "      <td>14</td>\n",
              "      <td>12</td>\n",
              "    </tr>\n",
              "    <tr>\n",
              "      <th>2</th>\n",
              "      <td>List the creation year, name and budget of eac...</td>\n",
              "      <td>SELECT creation ,  name ,  budget_in_billions ...</td>\n",
              "      <td>9</td>\n",
              "      <td>9</td>\n",
              "    </tr>\n",
              "    <tr>\n",
              "      <th>7</th>\n",
              "      <td>What are the names of the states where at leas...</td>\n",
              "      <td>SELECT born_state FROM head GROUP BY born_stat...</td>\n",
              "      <td>13</td>\n",
              "      <td>12</td>\n",
              "    </tr>\n",
              "    <tr>\n",
              "      <th>9</th>\n",
              "      <td>Show the name and number of employees for the ...</td>\n",
              "      <td>SELECT T1.name ,  T1.num_employees FROM depart...</td>\n",
              "      <td>18</td>\n",
              "      <td>24</td>\n",
              "    </tr>\n",
              "    <tr>\n",
              "      <th>...</th>\n",
              "      <td>...</td>\n",
              "      <td>...</td>\n",
              "      <td>...</td>\n",
              "      <td>...</td>\n",
              "    </tr>\n",
              "    <tr>\n",
              "      <th>6986</th>\n",
              "      <td>What is the title and director for the movie w...</td>\n",
              "      <td>SELECT title ,  director FROM movie WHERE YEAR...</td>\n",
              "      <td>18</td>\n",
              "      <td>18</td>\n",
              "    </tr>\n",
              "    <tr>\n",
              "      <th>6987</th>\n",
              "      <td>Return the title and director of the movie rel...</td>\n",
              "      <td>SELECT title ,  director FROM movie WHERE YEAR...</td>\n",
              "      <td>20</td>\n",
              "      <td>18</td>\n",
              "    </tr>\n",
              "    <tr>\n",
              "      <th>6990</th>\n",
              "      <td>Show all director names who have a movie in th...</td>\n",
              "      <td>SELECT director FROM movie WHERE YEAR  =  1999...</td>\n",
              "      <td>13</td>\n",
              "      <td>15</td>\n",
              "    </tr>\n",
              "    <tr>\n",
              "      <th>6992</th>\n",
              "      <td>What is the average, maximum, and minimum budg...</td>\n",
              "      <td>SELECT avg(budget_million) ,  max(budget_milli...</td>\n",
              "      <td>12</td>\n",
              "      <td>15</td>\n",
              "    </tr>\n",
              "    <tr>\n",
              "      <th>6993</th>\n",
              "      <td>Return the average, maximum, and minimum budge...</td>\n",
              "      <td>SELECT avg(budget_million) ,  max(budget_milli...</td>\n",
              "      <td>15</td>\n",
              "      <td>15</td>\n",
              "    </tr>\n",
              "  </tbody>\n",
              "</table>\n",
              "<p>3174 rows × 4 columns</p>\n",
              "</div>"
            ],
            "text/plain": [
              "                                                   Text  ... sql_len\n",
              "0     How many heads of the departments are older th...  ...       9\n",
              "1     List the name, born state and age of the heads...  ...      12\n",
              "2     List the creation year, name and budget of eac...  ...       9\n",
              "7     What are the names of the states where at leas...  ...      12\n",
              "9     Show the name and number of employees for the ...  ...      24\n",
              "...                                                 ...  ...     ...\n",
              "6986  What is the title and director for the movie w...  ...      18\n",
              "6987  Return the title and director of the movie rel...  ...      18\n",
              "6990  Show all director names who have a movie in th...  ...      15\n",
              "6992  What is the average, maximum, and minimum budg...  ...      15\n",
              "6993  Return the average, maximum, and minimum budge...  ...      15\n",
              "\n",
              "[3174 rows x 4 columns]"
            ]
          },
          "metadata": {},
          "execution_count": 7
        }
      ]
    },
    {
      "cell_type": "code",
      "metadata": {
        "id": "rJio1bTaogSI"
      },
      "source": [
        "# create train and validation set \n",
        "train, val = train_test_split(df, test_size=0.1)\n",
        "train.to_csv(\"train.csv\", index=False)\n",
        "val.to_csv(\"val.csv\", index=False)"
      ],
      "execution_count": null,
      "outputs": []
    },
    {
      "cell_type": "code",
      "metadata": {
        "id": "RrOBLcDi4DIi"
      },
      "source": [],
      "execution_count": null,
      "outputs": []
    },
    {
      "cell_type": "code",
      "metadata": {
        "id": "4IystOMPomjM"
      },
      "source": [
        "# associate the text in the 'Text' column with the EN_TEXT field, and 'SQL' with SQL_TEXT\n",
        "data_fields = [('Text', EN_TEXT), ('SQL', SQL_TEXT)]\n",
        "train, val = TabularDataset.splits(path='./', train='train.csv', validation='val.csv', format='csv', fields=data_fields)"
      ],
      "execution_count": null,
      "outputs": []
    },
    {
      "cell_type": "code",
      "metadata": {
        "id": "G-0jLLh6p1FO"
      },
      "source": [
        "SQL_TEXT.build_vocab(train, val)\n",
        "EN_TEXT.build_vocab(train, val)"
      ],
      "execution_count": null,
      "outputs": []
    },
    {
      "cell_type": "code",
      "metadata": {
        "colab": {
          "base_uri": "https://localhost:8080/"
        },
        "id": "K48YhYbzp7HV",
        "outputId": "e0a22dab-96c4-427d-bb98-cd82f121dee0"
      },
      "source": [
        "#tokens for some example words in the SQL queries and the Text data\n",
        "print(SQL_TEXT.vocab.stoi['SELECT'])\n",
        "print(EN_TEXT.vocab.stoi['What'])"
      ],
      "execution_count": null,
      "outputs": [
        {
          "output_type": "stream",
          "name": "stdout",
          "text": [
            "4\n",
            "7\n"
          ]
        }
      ]
    },
    {
      "cell_type": "code",
      "metadata": {
        "id": "d-ORPDD1qrwv"
      },
      "source": [
        "train_iter = BucketIterator(train, batch_size=20, sort_key=lambda x: len(x.SQL), shuffle=True)\n",
        "val_iter = BucketIterator(val, batch_size=20, sort_key=lambda x: len(x.SQL), shuffle=True)"
      ],
      "execution_count": null,
      "outputs": []
    },
    {
      "cell_type": "code",
      "metadata": {
        "colab": {
          "base_uri": "https://localhost:8080/"
        },
        "id": "QnJDD7Wsq1eD",
        "outputId": "67834cc0-4333-4dbc-f51b-21342d4e9e7c"
      },
      "source": [
        "#an example of a batch\n",
        "batch = next(iter(train_iter))\n",
        "print(batch.SQL)\n",
        "print(batch.Text)\n",
        "#all the 1s are paddings\n",
        "\n",
        "#FINDING MAX INPUT NORM\n",
        "max_inp_norm = -1\n",
        "for i, batch in enumerate(train_iter):\n",
        "    for j in batch.Text:\n",
        "        max_inp_norm = max(max_inp_norm, torch.linalg.norm(j.to(torch.float)))\n",
        "\n",
        "print(max_inp_norm)"
      ],
      "execution_count": null,
      "outputs": [
        {
          "output_type": "stream",
          "name": "stdout",
          "text": [
            "tensor([[   4,    4,    4,    4,    4,    4,    4,    4,    4,    4,    4,    4,\n",
            "            4,    4,    4,    4,    4,    4,    4,    4],\n",
            "        [ 127, 1175,   15, 1263,  739,   69, 1816,   40,   15,   67,  248,  194,\n",
            "          151, 2754, 2166,  643,  106,   27,   27, 2095],\n",
            "        [   3,    9,   11,    9,    3,    9,    3,    9,   11,    9,    9,    3,\n",
            "            9,    3,    9,    9,    3,  341,  600,    9],\n",
            "        [  71,    2,   12,    2,  742,    2,  171,    2,   12,    2,    2,   78,\n",
            "            2,  398,    2,    2,  353,    9,    3,    2],\n",
            "        [  16,  719,    5, 1264,   16,   15,    6, 2735,    5,  169,   34,   16,\n",
            "         1275,    6,   24,   34,   16,    2,   78, 2818],\n",
            "        [   8,    3,    9,    3,    8,   11,  358,    5,    3,    9,   11,    8,\n",
            "            3, 1228,    3,   11,    8,  534,   17,    9],\n",
            "        [ 127,   74,    2,   74,  739,   12,    2,    3,  110,    2,   12,  194,\n",
            "         2894,  667,  746,   12,  106,    3,   25,    2],\n",
            "        [  33,   17,  137,    6,   33,    5,    7, 2817,    6, 1240,    5,   33,\n",
            "            6,    7,   14,    5,   33,  778,   22, 2750],\n",
            "        [  15,   25,    5, 1085, 1908,    3,    2,   16,   24,    3,    3,   34,\n",
            "          131,    2,    8,    3,   15,    1,  123,    3],\n",
            "        [  11,   22,    9,    2,    5,   65,   10,    8,   38,   71,  246,   11,\n",
            "            2,   10, 1470,  501,   11,    1,   17,  475],\n",
            "        [  12,  139,    2,   18,    2,   16, 1504,   40,   13,    6,   16,   12,\n",
            "            7, 1467,   21,   16,   12,    1,   26,    1],\n",
            "        [   5,   17,   82,    2,   30,    8,   10,   29,   41,  169,    8,    5,\n",
            "            2,   10,   19,    8,    5,    1,   23,    1],\n",
            "        [   2,   26,    3, 1328,    2,   69,    1,    1, 1509,    2,  248,    2,\n",
            "           13,    1,   48,  643,    2,    1,  179,    1],\n",
            "        [  18,   23,   60,   39,   75,    1,    1,    1,   13,    7,    1,   30,\n",
            "         2275,    1,    1,   14,   18,    1,    2,    1],\n",
            "        [   7,  913,   16,  307,    1,    1,    1,    1,    1,    2,    1,    2,\n",
            "           13,    1,    1,    8,    2,    1,    7,    1],\n",
            "        [   2,    2,    8,    2,    1,    1,    1,    1,    1,   13,    1,   44,\n",
            "           28,    1,    1,   34,   20,    1,    2,    1],\n",
            "        [  48,    7,   82,   30,    1,    1,    1,    1,    1, 1552,    1,    1,\n",
            "         2776,    1,    1,   11,    1,    1, 1711,    1],\n",
            "        [   1,    2,    1,    2,    1,    1,    1,    1,    1,  357,    1,    1,\n",
            "            2,    1,    1,   12,    1,    1,    1,    1],\n",
            "        [   1,  928,    1, 1350,    1,    1,    1,    1,    1,   13,    1,    1,\n",
            "           30,    1,    1,    5,    1,    1,    1,    1],\n",
            "        [   1,    6,    1,    1,    1,    1,    1,    1,    1,   39,    1,    1,\n",
            "            2,    1,    1,   21,    1,    1,    1,    1],\n",
            "        [   1, 1194,    1,    1,    1,    1,    1,    1,    1,  169,    1,    1,\n",
            "          161,    1,    1,    1,    1,    1,    1,    1],\n",
            "        [   1,    2,    1,    1,    1,    1,    1,    1,    1,    2,    1,    1,\n",
            "            1,    1,    1,    1,    1,    1,    1,    1],\n",
            "        [   1,    7,    1,    1,    1,    1,    1,    1,    1,    7,    1,    1,\n",
            "            1,    1,    1,    1,    1,    1,    1,    1],\n",
            "        [   1,    2,    1,    1,    1,    1,    1,    1,    1,    2,    1,    1,\n",
            "            1,    1,    1,    1,    1,    1,    1,    1],\n",
            "        [   1,   13,    1,    1,    1,    1,    1,    1,    1,   13,    1,    1,\n",
            "            1,    1,    1,    1,    1,    1,    1,    1],\n",
            "        [   1,  436,    1,    1,    1,    1,    1,    1,    1,  405,    1,    1,\n",
            "            1,    1,    1,    1,    1,    1,    1,    1],\n",
            "        [   1,   13,    1,    1,    1,    1,    1,    1,    1, 1395,    1,    1,\n",
            "            1,    1,    1,    1,    1,    1,    1,    1],\n",
            "        [   1,    1,    1,    1,    1,    1,    1,    1,    1,   13,    1,    1,\n",
            "            1,    1,    1,    1,    1,    1,    1,    1]])\n",
            "tensor([[  23,    7,   21,    7,   54,   23,   23,    7,   28,   27,  242,    7,\n",
            "            7,   23,   27,   23,   21,  485,    7,   27],\n",
            "        [   2,    8,    2,    8,  495,   12,    2,   10,   25,    2,  232,    8,\n",
            "            8,    2,    2,   24,    2,    2,    8,    2],\n",
            "        [  42,    2,   17,    2,  449,  359,  190,    2,  217,   89,   24,    2,\n",
            "            2, 1161,  498,  177,  502,   43,    2,  508],\n",
            "        [  20,   11,    6,   43,   92,    6,   44,   30,   37,   38,  337,  618,\n",
            "           11,   11, 1622,   44,   74,   13,   57,   15],\n",
            "        [ 209,    3,   30,   13,  123,  117,    3,   17,   11,   44,    6,  797,\n",
            "            6,    3,    6,    6,   61,    6,   52,  539],\n",
            "        [  14,   12,   76,    6,  162,   17,    2,    3,   19,   15,    2,  122,\n",
            "          367,    2,   11,    2,   40,   52,   11,  260],\n",
            "        [  71,    2,    3,   52,  122,    3,  211,  669,    2,   89,  117,   22,\n",
            "            3,  225,   16,  117,   22,   13,    3,   15],\n",
            "        [  69,   87,   36,   13,   22,   36,   14,   71,  216,   13,   17,  196,\n",
            "            2,  917,   19,  110,  147,    3,    2, 1936],\n",
            "        [ 158,   26,  292,    3,  141,    5,   13,  539, 1784,   15,    3,   36,\n",
            "           78,   29,    2,    3,  433,   12,   36,  260],\n",
            "        [  86,  400,    9,    2,  223,    1,   18,  243,    9,    6,   95,    8,\n",
            "           16,   18,  115,  605,  958,    2,   26,    3],\n",
            "        [   5,   31,   24,   87,    4,    1, 1312,   20,  295,   89,    9,  511,\n",
            "            8, 1290,  158,  148,    5,  722,   19,   12],\n",
            "        [   1, 1173,   64,   26,    1,    1,   18,   24,    4,  125,   16,    4,\n",
            "            3,   18,   41,   29,    1,    5,  226,    2],\n",
            "        [   1,  892,    5,   19,    1,    1,    5,   58,    1,   20,  337,    1,\n",
            "           37,    5,   17,    2,    1,    1,  340,  243],\n",
            "        [   1,  969,    1,  435,    1,    1,    1,    4,    1,    2,    5,    1,\n",
            "         1727,    1,    3,  110,    1,    1,  215,    5],\n",
            "        [   1,   15,    1,  127,    1,    1,    1,    1,    1,   89,    1,    1,\n",
            "           37,    1,   91,    9,    1,    1,    4,    1],\n",
            "        [   1,    6,    1, 1204,    1,    1,    1,    1,    1,   14,    1,    1,\n",
            "           38,    1,  527,   73,    1,    1,    1,    1],\n",
            "        [   1,  754,    1,   45,    1,    1,    1,    1,    1,   13,    1,    1,\n",
            "            6,    1,    5,   32,    1,    1,    1,    1],\n",
            "        [   1,   96,    1,  193,    1,    1,    1,    1,    1,   37,    1,    1,\n",
            "           19,    1,    1,    5,    1,    1,    1,    1],\n",
            "        [   1,    8,    1,  192,    1,    1,    1,    1,    1, 1345,    1,    1,\n",
            "         2002,    1,    1,    1,    1,    1,    1,    1],\n",
            "        [   1,    2,    1, 1226,    1,    1,    1,    1,    1,  387,    1,    1,\n",
            "          420,    1,    1,    1,    1,    1,    1,    1],\n",
            "        [   1,   11,    1,    4,    1,    1,    1,    1,    1,   37,    1,    1,\n",
            "          350,    1,    1,    1,    1,    1,    1,    1],\n",
            "        [   1,    3,    1,    1,    1,    1,    1,    1,    1,   45,    1,    1,\n",
            "          201,    1,    1,    1,    1,    1,    1,    1],\n",
            "        [   1,   66,    1,    1,    1,    1,    1,    1,    1,   13,    1,    1,\n",
            "           22,    1,    1,    1,    1,    1,    1,    1],\n",
            "        [   1,  139,    1,    1,    1,    1,    1,    1,    1,   37,    1,    1,\n",
            "          240,    1,    1,    1,    1,    1,    1,    1],\n",
            "        [   1,    4,    1,    1,    1,    1,    1,    1,    1, 1323,    1,    1,\n",
            "            4,    1,    1,    1,    1,    1,    1,    1],\n",
            "        [   1,    1,    1,    1,    1,    1,    1,    1,    1, 1258,    1,    1,\n",
            "            1,    1,    1,    1,    1,    1,    1,    1],\n",
            "        [   1,    1,    1,    1,    1,    1,    1,    1,    1,   37,    1,    1,\n",
            "            1,    1,    1,    1,    1,    1,    1,    1],\n",
            "        [   1,    1,    1,    1,    1,    1,    1,    1,    1,    5,    1,    1,\n",
            "            1,    1,    1,    1,    1,    1,    1,    1]])\n",
            "tensor(4200.7393)\n"
          ]
        }
      ]
    },
    {
      "cell_type": "code",
      "metadata": {
        "colab": {
          "base_uri": "https://localhost:8080/"
        },
        "id": "Ok_sIWts4N1A",
        "outputId": "bf87f5b0-9763-47c5-9dec-908a0f18c6c0"
      },
      "source": [
        "batch_val = next(iter(val_iter))\n",
        "print(batch_val.SQL.shape)"
      ],
      "execution_count": null,
      "outputs": [
        {
          "output_type": "stream",
          "name": "stdout",
          "text": [
            "torch.Size([40, 20])\n"
          ]
        }
      ]
    },
    {
      "cell_type": "code",
      "metadata": {
        "colab": {
          "base_uri": "https://localhost:8080/"
        },
        "id": "f7W4Bot_Jy7K",
        "outputId": "feabd6dc-8f15-47aa-e32d-9fa0dca92d21"
      },
      "source": [
        "print(\"Length of training set: \" + str(len(spider.get('train'))) + '\\n')\n",
        "data_example = spider.get('train')[0]\n",
        "y = data_example['query']\n",
        "x = data_example['question']\n",
        "print(\"Example of training data:\")\n",
        "print('\\n'.join([(str(key) + ': ' + str(data_example[key])) for key in data_example]))\n",
        "\n",
        "#Convert input into numpy -------"
      ],
      "execution_count": null,
      "outputs": [
        {
          "output_type": "stream",
          "name": "stdout",
          "text": [
            "Length of training set: 7000\n",
            "\n",
            "Example of training data:\n",
            "db_id: department_management\n",
            "query: SELECT count(*) FROM head WHERE age  >  56\n",
            "question: How many heads of the departments are older than 56 ?\n",
            "query_toks: ['SELECT', 'count', '(', '*', ')', 'FROM', 'head', 'WHERE', 'age', '>', '56']\n",
            "query_toks_no_value: ['select', 'count', '(', '*', ')', 'from', 'head', 'where', 'age', '>', 'value']\n",
            "question_toks: ['How', 'many', 'heads', 'of', 'the', 'departments', 'are', 'older', 'than', '56', '?']\n"
          ]
        }
      ]
    },
    {
      "cell_type": "markdown",
      "metadata": {
        "id": "U0jJdm8YW3JC"
      },
      "source": [
        "Embedding"
      ]
    },
    {
      "cell_type": "code",
      "metadata": {
        "id": "4sg3x2TJUE2p"
      },
      "source": [
        "#https://towardsdatascience.com/how-to-code-the-transformer-in-pytorch-24db27c8f9ec\n",
        "\n",
        "#Gives word vector\n",
        "\n",
        "class Embedder(nn.Module):\n",
        "    def __init__(self, vocab_size, d_model): #first parameter: total number of unique words. second parameter: the length of the embeddings\n",
        "        super().__init__()\n",
        "        #Create embedding function\n",
        "        self.embed = nn.Embedding(vocab_size, d_model) #can be pretrained too, some extra steps for that\n",
        "    def forward(self, x):\n",
        "        #Embed\n",
        "        return self.embed(x)"
      ],
      "execution_count": null,
      "outputs": []
    },
    {
      "cell_type": "markdown",
      "metadata": {
        "id": "rJXUR2Z6W1DA"
      },
      "source": [
        "Positional Encoding"
      ]
    },
    {
      "cell_type": "code",
      "metadata": {
        "id": "-kFPUsUcWyl8"
      },
      "source": [
        "class PositionalEncoder(nn.Module):\n",
        "    def __init__(self, d_model, max_seq_len = 200, dropout = 0.1):\n",
        "        super().__init__()\n",
        "        self.d_model = d_model #the length of the embeddings\n",
        "        self.dropout = nn.Dropout(dropout)\n",
        "        # create constant 'pe' matrix with values dependant on \n",
        "        # pos and i. This will come to work in forward pass\n",
        "        pe = torch.zeros(max_seq_len, d_model)\n",
        "        for pos in range(max_seq_len):\n",
        "            for i in range(0, d_model, 2):\n",
        "                pe[pos, i] = math.sin(pos / (10000 ** ((2 * i)/d_model)))\n",
        "                pe[pos, i + 1] = math.cos(pos / (10000 ** ((2 * (i + 1))/d_model)))\n",
        "        pe = pe.unsqueeze(0)\n",
        "        self.register_buffer('pe', pe)\n",
        " \n",
        "    \n",
        "    def forward(self, x):\n",
        "        # multiply the values of embeddings with the square of the length of embeddings. To fix vansihing gradients or something ig\n",
        "        x = x * math.sqrt(self.d_model)\n",
        "        #add constant to embedding\n",
        "        seq_len = x.size(1)\n",
        "        pe = Variable(self.pe[:,:seq_len], requires_grad=False) #takes values from self.pe according to the length of the input text string\n",
        "        if x.is_cuda:\n",
        "            pe.cuda()\n",
        "        x = x + pe\n",
        "        return self.dropout(x)\n",
        "        #combines input with pe and returns\n",
        "\n"
      ],
      "execution_count": null,
      "outputs": []
    },
    {
      "cell_type": "markdown",
      "metadata": {
        "id": "TLufY-00KrA0"
      },
      "source": [
        "Multi Head Attention Layer and Attention Scores"
      ]
    },
    {
      "cell_type": "code",
      "metadata": {
        "id": "hbL4fCY4Ku5o"
      },
      "source": [
        "class MultiHeadAttention(nn.Module):\n",
        "    def __init__(self, heads, d_model, dropout = 0.1):\n",
        "        super().__init__()\n",
        "        \n",
        "        self.d_model = d_model\n",
        "        self.d_k = d_model // heads\n",
        "        self.h = heads\n",
        "        \n",
        "        self.q_linear = nn.Linear(d_model, d_model)\n",
        "        self.v_linear = nn.Linear(d_model, d_model)\n",
        "        self.k_linear = nn.Linear(d_model, d_model)\n",
        "        self.dropout = nn.Dropout(dropout)\n",
        "        self.out = nn.Linear(d_model, d_model)\n",
        "    \n",
        "    def forward(self, q, k, v, scale_factor, mask=None):\n",
        "        \n",
        "        bs = q.size(0)\n",
        "        \n",
        "        # perform linear operation and split into h heads\n",
        "        \n",
        "        k = self.k_linear(k).view(bs, -1, self.h, self.d_k)\n",
        "        q = self.q_linear(q).view(bs, -1, self.h, self.d_k)\n",
        "        v = self.v_linear(v).view(bs, -1, self.h, self.d_k)\n",
        "        \n",
        "        # transpose to get dimensions bs * h * sl * d_model\n",
        "       \n",
        "        k = k.transpose(1,2)\n",
        "        q = q.transpose(1,2)\n",
        "        v = v.transpose(1,2) * scale_factor\n",
        "        # calculate attention using function we will define next\n",
        "        scores = attention(q, k, v, self.d_k, mask, self.dropout)\n",
        "        \n",
        "        # concatenate heads and put through final linear layer\n",
        "        concat = scores.transpose(1,2).contiguous().view(bs, -1, self.d_model)\n",
        "        #use the scale factor as mentioned in dt_fixup\n",
        "        output = self.out(concat) * scale_factor\n",
        "    \n",
        "        return output"
      ],
      "execution_count": null,
      "outputs": []
    },
    {
      "cell_type": "code",
      "metadata": {
        "id": "cT-ci_07a6zr"
      },
      "source": [
        "def attention(q, k, v, d_k, mask=None, dropout=None):\n",
        "    \n",
        "    scores = torch.matmul(q, k.transpose(-2, -1)) /  math.sqrt(d_k)\n",
        "    if mask is not None:\n",
        "        mask = mask.unsqueeze(1)\n",
        "        scores = scores.masked_fill(mask == 0, -1e9)\n",
        "    scores = F.softmax(scores, dim=-1)\n",
        "    \n",
        "    if dropout is not None:\n",
        "        scores = dropout(scores)\n",
        "        \n",
        "    output = torch.matmul(scores, v)\n",
        "    return output"
      ],
      "execution_count": null,
      "outputs": []
    },
    {
      "cell_type": "code",
      "metadata": {
        "id": "bouOfmge8Agt"
      },
      "source": [
        "class Norm(nn.Module):\n",
        "    def __init__(self, d_model, eps = 1e-6):\n",
        "        super().__init__()\n",
        "    \n",
        "        self.size = d_model\n",
        "        # create two learnable parameters to calibrate normalisation\n",
        "        self.alpha = nn.Parameter(torch.ones(self.size))\n",
        "        self.bias = nn.Parameter(torch.zeros(self.size))\n",
        "        self.eps = eps\n",
        "    def forward(self, x):\n",
        "        norm = self.alpha * (x - x.mean(dim=-1, keepdim=True)) \\\n",
        "        / (x.std(dim=-1, keepdim=True) + self.eps) + self.bias\n",
        "        return norm"
      ],
      "execution_count": null,
      "outputs": []
    },
    {
      "cell_type": "markdown",
      "metadata": {
        "id": "XZtROWZ8899E"
      },
      "source": [
        "Encoder Decoder Layer Classes."
      ]
    },
    {
      "cell_type": "code",
      "metadata": {
        "id": "zp0YxjuxGQsn"
      },
      "source": [
        "# build an encoder layer with one multi-head attention layer and one # feed-forward layer\n",
        "class EncoderLayer(nn.Module):\n",
        "    def __init__(self, d_model, heads, dropout = 0.1):\n",
        "        super().__init__()\n",
        "        self.norm_1 = Norm(d_model)\n",
        "        self.norm_2 = Norm(d_model)\n",
        "        self.attn = MultiHeadAttention(heads, d_model)\n",
        "        self.ff = FeedForward(d_model)\n",
        "        self.dropout_1 = nn.Dropout(dropout)\n",
        "        self.dropout_2 = nn.Dropout(dropout)\n",
        "        \n",
        "    def forward(self, x, scale_factor, mask):\n",
        "        x2 = self.norm_1(x)\n",
        "        x = x + self.dropout_1(self.attn(x2,x2,x2,scale_factor,mask))\n",
        "        x2 = self.norm_2(x)\n",
        "        x = x + self.dropout_2(self.ff(x2))\n",
        "        return x\n",
        "    \n",
        "# build a decoder layer with two multi-head attention layers and\n",
        "# one feed-forward layer\n",
        "class DecoderLayer(nn.Module):\n",
        "    def __init__(self, d_model, heads, dropout=0.1):\n",
        "        super().__init__()\n",
        "        self.norm_1 = Norm(d_model)\n",
        "        self.norm_2 = Norm(d_model)\n",
        "        self.norm_3 = Norm(d_model)\n",
        "        \n",
        "        self.dropout_1 = nn.Dropout(dropout)\n",
        "        self.dropout_2 = nn.Dropout(dropout)\n",
        "        self.dropout_3 = nn.Dropout(dropout)\n",
        "        \n",
        "        self.attn_1 = MultiHeadAttention(heads, d_model)\n",
        "        self.attn_2 = MultiHeadAttention(heads, d_model)\n",
        "        self.ff = FeedForward(d_model).cuda()\n",
        "    def forward(self, x, e_outputs, scale_factor, src_mask, trg_mask):\n",
        "        x2 = self.norm_1(x)\n",
        "        x = x + self.dropout_1(self.attn_1(x2, x2, x2, scale_factor, trg_mask))\n",
        "        x2 = self.norm_2(x)\n",
        "        x = x + self.dropout_2(self.attn_2(x2, e_outputs, e_outputs, scale_factor, src_mask))\n",
        "        x2 = self.norm_3(x)\n",
        "        x = x + self.dropout_3(self.ff(x2))\n",
        "        return x\n",
        "# We can then build a convenient cloning function that can generate multiple layers:\n",
        "def get_clones(module, N):\n",
        "    return nn.ModuleList([copy.deepcopy(module) for i in range(N)])"
      ],
      "execution_count": null,
      "outputs": []
    },
    {
      "cell_type": "code",
      "metadata": {
        "id": "EACWddVOGxRj"
      },
      "source": [
        "#change N to tune the number of multi headed attention layers\n",
        "\n",
        "class Encoder(nn.Module):\n",
        "    def __init__(self, vocab_size, d_model, N, heads):\n",
        "        super().__init__()\n",
        "        self.N = N\n",
        "        self.embed = Embedder(vocab_size, d_model)\n",
        "        self.pe = PositionalEncoder(d_model)\n",
        "        self.layers = get_clones(EncoderLayer(d_model, heads), N)\n",
        "        self.norm = Norm(d_model)\n",
        "    def forward(self, src, scale_factor, mask):\n",
        "        x = self.embed(src)\n",
        "        x = self.pe(x)\n",
        "        for i in range(self.N):\n",
        "            x = self.layers[i](x, scale_factor, mask)\n",
        "        return self.norm(x)\n",
        "    \n",
        "class Decoder(nn.Module):\n",
        "    def __init__(self, vocab_size, d_model, N, heads):\n",
        "        super().__init__()\n",
        "        self.N = N\n",
        "        self.embed = Embedder(vocab_size, d_model)\n",
        "        self.pe = PositionalEncoder(d_model)\n",
        "        self.layers = get_clones(DecoderLayer(d_model, heads), N)\n",
        "        self.norm = Norm(d_model)\n",
        "    def forward(self, trg, e_outputs, scale_factor, src_mask, trg_mask):\n",
        "        x = self.embed(trg)\n",
        "        x = self.pe(x)\n",
        "        for i in range(self.N):\n",
        "            x = self.layers[i](x, e_outputs, scale_factor, src_mask, trg_mask)\n",
        "        return self.norm(x)"
      ],
      "execution_count": null,
      "outputs": []
    },
    {
      "cell_type": "code",
      "metadata": {
        "id": "LgjnYIti79o6"
      },
      "source": [
        "class FeedForward(nn.Module):\n",
        "    def __init__(self, d_model, d_ff=2048, dropout = 0.1):\n",
        "        super().__init__() \n",
        "        # We set d_ff as a default to 2048\n",
        "        self.linear_1 = nn.Linear(d_model, d_ff)\n",
        "        self.dropout = nn.Dropout(dropout)\n",
        "        self.linear_2 = nn.Linear(d_ff, d_model)\n",
        "    def forward(self, x):\n",
        "        x = self.dropout(F.relu(self.linear_1(x)))\n",
        "        x = self.linear_2(x)\n",
        "        return x"
      ],
      "execution_count": null,
      "outputs": []
    },
    {
      "cell_type": "code",
      "metadata": {
        "id": "-N7cDwO5HSjP"
      },
      "source": [
        "class Transformer(nn.Module):\n",
        "    def __init__(self, src_vocab, trg_vocab, scale_factor, d_model, N, heads):\n",
        "        super().__init__()\n",
        "        self.encoder = Encoder(src_vocab, d_model, N, heads)\n",
        "        self.decoder = Decoder(trg_vocab, d_model, N, heads)\n",
        "        self.out = nn.Linear(d_model, trg_vocab)\n",
        "        self.scale_factor = scale_factor\n",
        "    def forward(self, src, trg, src_mask, trg_mask):\n",
        "        encoder_outputs = self.encoder(src, self.scale_factor, src_mask)\n",
        "        decoder_output = self.decoder(trg, encoder_outputs, self.scale_factor, src_mask, trg_mask)\n",
        "        output = self.out(decoder_output)\n",
        "        return output\n",
        "# we don't perform softmax on the output as this will be handled \n",
        "# automatically by our loss function"
      ],
      "execution_count": null,
      "outputs": []
    },
    {
      "cell_type": "code",
      "metadata": {
        "id": "oQ1W5CIkHnue"
      },
      "source": [
        "#this is what will have to be tuned\n",
        "from math import sqrt\n",
        "\n",
        "d_model = 512\n",
        "heads = 8\n",
        "N = 6\n",
        "scale_factor = 1 #scale factor is amde 1 to run code without dt-fixup\n",
        "src_vocab = len(EN_TEXT.vocab)\n",
        "trg_vocab = len(SQL_TEXT.vocab)\n",
        "model = Transformer(src_vocab, trg_vocab, scale_factor, d_model, N, heads)\n",
        "model.to(device)\n",
        "#for p in model.parameters():\n",
        "#  if p.dim() > 1:\n",
        "#    nn.init.xavier_uniform_(p) #xavier initialisation as defined in dt fixup\n",
        "# this code is very important! It initialises the parameters with a\n",
        "# range of values that stops the signal fading or getting too big.\n",
        "# See this blog for a mathematical explanation.\n",
        "optim = torch.optim.Adam(model.parameters(), lr=0.0001, betas=(0.9, 0.98), eps=1e-9)"
      ],
      "execution_count": null,
      "outputs": []
    },
    {
      "cell_type": "code",
      "metadata": {
        "colab": {
          "base_uri": "https://localhost:8080/"
        },
        "id": "vkmzTnWsN2G_",
        "outputId": "4d2c70fd-89b4-4ef2-da81-107d3a59bcbf"
      },
      "source": [
        "len(train_iter)"
      ],
      "execution_count": null,
      "outputs": [
        {
          "output_type": "execute_result",
          "data": {
            "text/plain": [
              "143"
            ]
          },
          "metadata": {},
          "execution_count": 26
        }
      ]
    },
    {
      "cell_type": "code",
      "metadata": {
        "id": "bJVgF7qjgIA4"
      },
      "source": [
        "r_loss = []\n",
        "val_loss = []\n",
        "\n",
        "def train_model(epochs, print_every=50):\n",
        "    \n",
        "    #model.train()\n",
        "    \n",
        "    start = time.time()\n",
        "    temp = start\n",
        "    \n",
        "    total_loss = 0\n",
        "    val_total_loss = 0\n",
        "    \n",
        "    for epoch in range(epochs):\n",
        "        model.train()\n",
        "        for i, batch in enumerate(train_iter):\n",
        "            #print('..')\n",
        "            src = batch.Text.transpose(0,1)\n",
        "            src=src.to(device)\n",
        "            trg = batch.SQL.transpose(0,1)\n",
        "            trg=trg.to(device)\n",
        "            # the SQL sentence we input has all words except\n",
        "            # the last, as it is using each word to predict the next\n",
        "            \n",
        "            trg_input = trg[:, :-1]\n",
        "\n",
        "            # the words we are trying to predict\n",
        "            \n",
        "            targets = trg[:, 1:].contiguous().view(-1)\n",
        "            \n",
        "            # create function to make masks using mask code above\n",
        "            \n",
        "            src_mask, trg_mask = create_masks(src, trg_input)\n",
        "            \n",
        "            trg_input=trg_input.to(device)\n",
        "            src_mask=src_mask.to(device)\n",
        "            trg_mask=trg_mask.to(device)\n",
        "            \n",
        "            preds = model(src, trg_input, src_mask, trg_mask)\n",
        "            \n",
        "            optim.zero_grad()\n",
        "            \n",
        "            target_pad = SQL_TEXT.vocab.stoi['<pad>']\n",
        "            loss = F.cross_entropy(preds.view(-1, preds.size(-1)), targets, ignore_index=target_pad)\n",
        "            loss.backward()\n",
        "            optim.step()\n",
        "            \n",
        "            total_loss += float(loss)\n",
        "            if (i + 1) % print_every == 0:\n",
        "                loss_avg = total_loss / print_every\n",
        "                r_loss.append(loss_avg)\n",
        "                print(\"time = %dm, epoch %d, iter = %d, train loss = %.3f, %ds per %d iters\" % ((time.time() - start) // 60, epoch + 1, i + 1, loss_avg, time.time() - temp,print_every))\n",
        "                total_loss = 0\n",
        "                temp = time.time()\n",
        "        \n",
        "        #Calculations for validation loss\n",
        "        model.eval()\n",
        "        for i, batch in enumerate(val_iter):\n",
        "            src_val = batch.Text.transpose(0,1)\n",
        "            src_val=src_val.to(device)\n",
        "            trg_val = batch.SQL.transpose(0,1)\n",
        "            trg_val=trg_val.to(device)\n",
        "            # the SQL sentence we input has all words except\n",
        "            # the last, as it is using each word to predict the next\n",
        "            \n",
        "            trg_input_val = trg_val[:, :-1]\n",
        "\n",
        "            # the words we are trying to predict\n",
        "            \n",
        "            targets_val = trg_val[:, 1:].contiguous().view(-1)\n",
        "            \n",
        "            # create function to make masks using mask code above\n",
        "            \n",
        "            src_mask_val, trg_mask_val = create_masks(src_val, trg_input_val)\n",
        "            \n",
        "            trg_input_val=trg_input_val.to(device)\n",
        "            src_mask_val=src_mask_val.to(device)\n",
        "            trg_mask_val=trg_mask_val.to(device)\n",
        "            \n",
        "            v_preds = model(src_val, trg_input_val, src_mask_val, trg_mask_val)\n",
        "            target_pad = SQL_TEXT.vocab.stoi['<pad>']\n",
        "            v_loss = F.cross_entropy(v_preds.view(-1, v_preds.size(-1)), targets_val, ignore_index=target_pad)\n",
        "            \n",
        "            val_total_loss += float(v_loss)\n",
        "            #if (i + 1) % print_every == 0:\n",
        "        loss_avg = val_total_loss / len(val_iter)\n",
        "        val_loss.append(loss_avg)\n",
        "        print(\"epoch %d, validation loss = %.3f\" % (epoch + 1, loss_avg))\n",
        "        val_total_loss = 0\n",
        "            "
      ],
      "execution_count": null,
      "outputs": []
    },
    {
      "cell_type": "code",
      "metadata": {
        "id": "yw0BgLDmgI19"
      },
      "source": [
        "def translate(model, src, max_len = 80):\n",
        "    model.eval()\n",
        "    src = tokenize_en(src)\n",
        "    src = [EN_TEXT.vocab.stoi[i] for i in src]\n",
        "    input_pad = EN_TEXT.vocab.stoi['<pad>']\n",
        "    src_msk = (src != input_pad).unsqueeze(1) #Have to fix this part i think\n",
        "    src_mask = src_msk.to(device)\n",
        "    e_outputs = model.encoder(src, src_mask)\n",
        "\n",
        "    "
      ],
      "execution_count": null,
      "outputs": []
    },
    {
      "cell_type": "code",
      "metadata": {
        "id": "-GKWHuhrRI_p"
      },
      "source": [
        "# Masking\n",
        "\n",
        "def create_masks(src,target_input):\n",
        "  #batch = next(iter(train_iter))\n",
        "  input_seq = src\n",
        "  input_pad = EN_TEXT.vocab.stoi['<pad>']\n",
        "  # creates mask with 0s wherever there is padding in the input\n",
        "  input_msk = (input_seq != input_pad).unsqueeze(1)\n",
        "  input_msk = input_msk.to(device)\n",
        "\n",
        "  target_seq = target_input\n",
        "  #target_seq = batch.SQL.transpose(0,1)\n",
        "  target_pad = SQL_TEXT.vocab.stoi['<pad>']\n",
        "  target_msk = (target_seq != target_pad).unsqueeze(1)\n",
        "  size = target_seq.size(1) # get seq_len for matrix\n",
        "  nopeak_mask = np.triu(np.ones((1, size, size)),\n",
        "  k=1).astype('uint8')\n",
        "  nopeak_mask = Variable(torch.from_numpy(nopeak_mask) == 0)\n",
        "  nopeak_mask = nopeak_mask.to(device)\n",
        "  target_msk = target_msk.to(device)\n",
        "  target_msk = target_msk & nopeak_mask\n",
        "  \n",
        "  \n",
        "  return input_msk,target_msk"
      ],
      "execution_count": null,
      "outputs": []
    },
    {
      "cell_type": "code",
      "metadata": {
        "colab": {
          "base_uri": "https://localhost:8080/"
        },
        "id": "cmeRPss7pZ_F",
        "outputId": "f27adabf-f5df-4c00-bee0-6ed2c78fd831"
      },
      "source": [
        "train_model(60)"
      ],
      "execution_count": null,
      "outputs": [
        {
          "output_type": "stream",
          "name": "stdout",
          "text": [
            "time = 0m, epoch 1, iter = 50, train loss = 6.544, 9s per 50 iters\n",
            "time = 0m, epoch 1, iter = 100, train loss = 4.521, 9s per 50 iters\n",
            "epoch 1, validation loss = 3.607\n",
            "time = 0m, epoch 2, iter = 50, train loss = 6.664, 19s per 50 iters\n",
            "time = 0m, epoch 2, iter = 100, train loss = 3.207, 9s per 50 iters\n",
            "epoch 2, validation loss = 3.096\n",
            "time = 1m, epoch 3, iter = 50, train loss = 5.577, 19s per 50 iters\n",
            "time = 1m, epoch 3, iter = 100, train loss = 2.838, 9s per 50 iters\n",
            "epoch 3, validation loss = 2.850\n",
            "time = 1m, epoch 4, iter = 50, train loss = 5.004, 19s per 50 iters\n",
            "time = 1m, epoch 4, iter = 100, train loss = 2.561, 9s per 50 iters\n",
            "epoch 4, validation loss = 2.695\n",
            "time = 2m, epoch 5, iter = 50, train loss = 4.677, 19s per 50 iters\n",
            "time = 2m, epoch 5, iter = 100, train loss = 2.363, 9s per 50 iters\n",
            "epoch 5, validation loss = 2.571\n",
            "time = 2m, epoch 6, iter = 50, train loss = 4.336, 19s per 50 iters\n",
            "time = 2m, epoch 6, iter = 100, train loss = 2.292, 9s per 50 iters\n",
            "epoch 6, validation loss = 2.476\n",
            "time = 3m, epoch 7, iter = 50, train loss = 4.065, 19s per 50 iters\n",
            "time = 3m, epoch 7, iter = 100, train loss = 2.138, 9s per 50 iters\n",
            "epoch 7, validation loss = 2.391\n",
            "time = 3m, epoch 8, iter = 50, train loss = 3.837, 19s per 50 iters\n",
            "time = 3m, epoch 8, iter = 100, train loss = 2.014, 9s per 50 iters\n",
            "epoch 8, validation loss = 2.301\n",
            "time = 4m, epoch 9, iter = 50, train loss = 3.641, 19s per 50 iters\n",
            "time = 4m, epoch 9, iter = 100, train loss = 1.902, 9s per 50 iters\n",
            "epoch 9, validation loss = 2.236\n",
            "time = 4m, epoch 10, iter = 50, train loss = 3.393, 19s per 50 iters\n",
            "time = 4m, epoch 10, iter = 100, train loss = 1.809, 10s per 50 iters\n",
            "epoch 10, validation loss = 2.157\n",
            "time = 5m, epoch 11, iter = 50, train loss = 3.191, 19s per 50 iters\n",
            "time = 5m, epoch 11, iter = 100, train loss = 1.673, 10s per 50 iters\n",
            "epoch 11, validation loss = 2.069\n",
            "time = 5m, epoch 12, iter = 50, train loss = 3.018, 19s per 50 iters\n",
            "time = 5m, epoch 12, iter = 100, train loss = 1.559, 9s per 50 iters\n",
            "epoch 12, validation loss = 2.003\n",
            "time = 6m, epoch 13, iter = 50, train loss = 2.763, 19s per 50 iters\n",
            "time = 6m, epoch 13, iter = 100, train loss = 1.469, 9s per 50 iters\n",
            "epoch 13, validation loss = 1.930\n",
            "time = 6m, epoch 14, iter = 50, train loss = 2.619, 19s per 50 iters\n",
            "time = 6m, epoch 14, iter = 100, train loss = 1.339, 9s per 50 iters\n",
            "epoch 14, validation loss = 1.865\n",
            "time = 6m, epoch 15, iter = 50, train loss = 2.421, 19s per 50 iters\n",
            "time = 7m, epoch 15, iter = 100, train loss = 1.262, 10s per 50 iters\n",
            "epoch 15, validation loss = 1.818\n",
            "time = 7m, epoch 16, iter = 50, train loss = 2.265, 19s per 50 iters\n",
            "time = 7m, epoch 16, iter = 100, train loss = 1.157, 9s per 50 iters\n",
            "epoch 16, validation loss = 1.739\n",
            "time = 7m, epoch 17, iter = 50, train loss = 2.079, 19s per 50 iters\n",
            "time = 8m, epoch 17, iter = 100, train loss = 1.078, 10s per 50 iters\n",
            "epoch 17, validation loss = 1.680\n",
            "time = 8m, epoch 18, iter = 50, train loss = 1.909, 19s per 50 iters\n",
            "time = 8m, epoch 18, iter = 100, train loss = 0.981, 9s per 50 iters\n",
            "epoch 18, validation loss = 1.650\n",
            "time = 8m, epoch 19, iter = 50, train loss = 1.796, 19s per 50 iters\n",
            "time = 9m, epoch 19, iter = 100, train loss = 0.922, 10s per 50 iters\n",
            "epoch 19, validation loss = 1.578\n",
            "time = 9m, epoch 20, iter = 50, train loss = 1.570, 19s per 50 iters\n",
            "time = 9m, epoch 20, iter = 100, train loss = 0.853, 9s per 50 iters\n",
            "epoch 20, validation loss = 1.536\n",
            "time = 9m, epoch 21, iter = 50, train loss = 1.507, 19s per 50 iters\n",
            "time = 10m, epoch 21, iter = 100, train loss = 0.760, 10s per 50 iters\n",
            "epoch 21, validation loss = 1.489\n",
            "time = 10m, epoch 22, iter = 50, train loss = 1.355, 19s per 50 iters\n",
            "time = 10m, epoch 22, iter = 100, train loss = 0.710, 9s per 50 iters\n",
            "epoch 22, validation loss = 1.438\n",
            "time = 10m, epoch 23, iter = 50, train loss = 1.230, 19s per 50 iters\n",
            "time = 11m, epoch 23, iter = 100, train loss = 0.631, 9s per 50 iters\n",
            "epoch 23, validation loss = 1.416\n",
            "time = 11m, epoch 24, iter = 50, train loss = 1.135, 19s per 50 iters\n",
            "time = 11m, epoch 24, iter = 100, train loss = 0.577, 9s per 50 iters\n",
            "epoch 24, validation loss = 1.380\n",
            "time = 11m, epoch 25, iter = 50, train loss = 1.026, 19s per 50 iters\n",
            "time = 12m, epoch 25, iter = 100, train loss = 0.541, 9s per 50 iters\n",
            "epoch 25, validation loss = 1.346\n",
            "time = 12m, epoch 26, iter = 50, train loss = 0.911, 19s per 50 iters\n",
            "time = 12m, epoch 26, iter = 100, train loss = 0.471, 9s per 50 iters\n",
            "epoch 26, validation loss = 1.325\n",
            "time = 12m, epoch 27, iter = 50, train loss = 0.843, 19s per 50 iters\n",
            "time = 13m, epoch 27, iter = 100, train loss = 0.441, 9s per 50 iters\n",
            "epoch 27, validation loss = 1.309\n",
            "time = 13m, epoch 28, iter = 50, train loss = 0.741, 19s per 50 iters\n",
            "time = 13m, epoch 28, iter = 100, train loss = 0.397, 9s per 50 iters\n",
            "epoch 28, validation loss = 1.294\n",
            "time = 13m, epoch 29, iter = 50, train loss = 0.673, 19s per 50 iters\n",
            "time = 13m, epoch 29, iter = 100, train loss = 0.348, 9s per 50 iters\n",
            "epoch 29, validation loss = 1.272\n",
            "time = 14m, epoch 30, iter = 50, train loss = 0.616, 19s per 50 iters\n",
            "time = 14m, epoch 30, iter = 100, train loss = 0.309, 9s per 50 iters\n",
            "epoch 30, validation loss = 1.252\n",
            "time = 14m, epoch 31, iter = 50, train loss = 0.551, 19s per 50 iters\n",
            "time = 14m, epoch 31, iter = 100, train loss = 0.280, 9s per 50 iters\n",
            "epoch 31, validation loss = 1.233\n",
            "time = 15m, epoch 32, iter = 50, train loss = 0.481, 19s per 50 iters\n",
            "time = 15m, epoch 32, iter = 100, train loss = 0.254, 9s per 50 iters\n",
            "epoch 32, validation loss = 1.212\n",
            "time = 15m, epoch 33, iter = 50, train loss = 0.434, 19s per 50 iters\n",
            "time = 15m, epoch 33, iter = 100, train loss = 0.229, 9s per 50 iters\n",
            "epoch 33, validation loss = 1.209\n",
            "time = 16m, epoch 34, iter = 50, train loss = 0.378, 19s per 50 iters\n",
            "time = 16m, epoch 34, iter = 100, train loss = 0.203, 9s per 50 iters\n",
            "epoch 34, validation loss = 1.204\n",
            "time = 16m, epoch 35, iter = 50, train loss = 0.350, 19s per 50 iters\n",
            "time = 16m, epoch 35, iter = 100, train loss = 0.175, 9s per 50 iters\n",
            "epoch 35, validation loss = 1.204\n",
            "time = 17m, epoch 36, iter = 50, train loss = 0.306, 19s per 50 iters\n",
            "time = 17m, epoch 36, iter = 100, train loss = 0.160, 9s per 50 iters\n",
            "epoch 36, validation loss = 1.191\n",
            "time = 17m, epoch 37, iter = 50, train loss = 0.271, 19s per 50 iters\n",
            "time = 17m, epoch 37, iter = 100, train loss = 0.140, 9s per 50 iters\n",
            "epoch 37, validation loss = 1.157\n",
            "time = 18m, epoch 38, iter = 50, train loss = 0.245, 19s per 50 iters\n",
            "time = 18m, epoch 38, iter = 100, train loss = 0.124, 9s per 50 iters\n",
            "epoch 38, validation loss = 1.183\n",
            "time = 18m, epoch 39, iter = 50, train loss = 0.223, 19s per 50 iters\n",
            "time = 18m, epoch 39, iter = 100, train loss = 0.115, 10s per 50 iters\n",
            "epoch 39, validation loss = 1.176\n",
            "time = 19m, epoch 40, iter = 50, train loss = 0.185, 19s per 50 iters\n",
            "time = 19m, epoch 40, iter = 100, train loss = 0.097, 9s per 50 iters\n",
            "epoch 40, validation loss = 1.168\n",
            "time = 19m, epoch 41, iter = 50, train loss = 0.187, 19s per 50 iters\n",
            "time = 19m, epoch 41, iter = 100, train loss = 0.088, 9s per 50 iters\n",
            "epoch 41, validation loss = 1.167\n",
            "time = 20m, epoch 42, iter = 50, train loss = 0.159, 19s per 50 iters\n",
            "time = 20m, epoch 42, iter = 100, train loss = 0.083, 10s per 50 iters\n",
            "epoch 42, validation loss = 1.163\n",
            "time = 20m, epoch 43, iter = 50, train loss = 0.138, 19s per 50 iters\n",
            "time = 20m, epoch 43, iter = 100, train loss = 0.076, 9s per 50 iters\n",
            "epoch 43, validation loss = 1.146\n",
            "time = 21m, epoch 44, iter = 50, train loss = 0.128, 19s per 50 iters\n",
            "time = 21m, epoch 44, iter = 100, train loss = 0.066, 9s per 50 iters\n",
            "epoch 44, validation loss = 1.149\n",
            "time = 21m, epoch 45, iter = 50, train loss = 0.119, 19s per 50 iters\n",
            "time = 21m, epoch 45, iter = 100, train loss = 0.063, 9s per 50 iters\n",
            "epoch 45, validation loss = 1.180\n",
            "time = 22m, epoch 46, iter = 50, train loss = 0.107, 19s per 50 iters\n",
            "time = 22m, epoch 46, iter = 100, train loss = 0.058, 10s per 50 iters\n",
            "epoch 46, validation loss = 1.176\n",
            "time = 22m, epoch 47, iter = 50, train loss = 0.093, 19s per 50 iters\n",
            "time = 22m, epoch 47, iter = 100, train loss = 0.050, 9s per 50 iters\n",
            "epoch 47, validation loss = 1.179\n",
            "time = 23m, epoch 48, iter = 50, train loss = 0.095, 19s per 50 iters\n",
            "time = 23m, epoch 48, iter = 100, train loss = 0.046, 9s per 50 iters\n",
            "epoch 48, validation loss = 1.189\n",
            "time = 23m, epoch 49, iter = 50, train loss = 0.089, 19s per 50 iters\n",
            "time = 23m, epoch 49, iter = 100, train loss = 0.044, 10s per 50 iters\n",
            "epoch 49, validation loss = 1.204\n",
            "time = 24m, epoch 50, iter = 50, train loss = 0.074, 19s per 50 iters\n",
            "time = 24m, epoch 50, iter = 100, train loss = 0.039, 9s per 50 iters\n",
            "epoch 50, validation loss = 1.198\n",
            "time = 24m, epoch 51, iter = 50, train loss = 0.077, 19s per 50 iters\n",
            "time = 24m, epoch 51, iter = 100, train loss = 0.035, 9s per 50 iters\n",
            "epoch 51, validation loss = 1.187\n",
            "time = 25m, epoch 52, iter = 50, train loss = 0.069, 19s per 50 iters\n",
            "time = 25m, epoch 52, iter = 100, train loss = 0.033, 9s per 50 iters\n",
            "epoch 52, validation loss = 1.222\n",
            "time = 25m, epoch 53, iter = 50, train loss = 0.067, 19s per 50 iters\n",
            "time = 25m, epoch 53, iter = 100, train loss = 0.034, 9s per 50 iters\n",
            "epoch 53, validation loss = 1.182\n",
            "time = 26m, epoch 54, iter = 50, train loss = 0.061, 19s per 50 iters\n",
            "time = 26m, epoch 54, iter = 100, train loss = 0.033, 9s per 50 iters\n",
            "epoch 54, validation loss = 1.194\n",
            "time = 26m, epoch 55, iter = 50, train loss = 0.057, 19s per 50 iters\n",
            "time = 26m, epoch 55, iter = 100, train loss = 0.030, 9s per 50 iters\n",
            "epoch 55, validation loss = 1.215\n",
            "time = 26m, epoch 56, iter = 50, train loss = 0.055, 19s per 50 iters\n",
            "time = 27m, epoch 56, iter = 100, train loss = 0.030, 10s per 50 iters\n",
            "epoch 56, validation loss = 1.233\n",
            "time = 27m, epoch 57, iter = 50, train loss = 0.048, 19s per 50 iters\n",
            "time = 27m, epoch 57, iter = 100, train loss = 0.029, 10s per 50 iters\n",
            "epoch 57, validation loss = 1.190\n",
            "time = 27m, epoch 58, iter = 50, train loss = 0.044, 19s per 50 iters\n",
            "time = 28m, epoch 58, iter = 100, train loss = 0.024, 9s per 50 iters\n",
            "epoch 58, validation loss = 1.232\n",
            "time = 28m, epoch 59, iter = 50, train loss = 0.044, 19s per 50 iters\n",
            "time = 28m, epoch 59, iter = 100, train loss = 0.027, 10s per 50 iters\n",
            "epoch 59, validation loss = 1.236\n",
            "time = 28m, epoch 60, iter = 50, train loss = 0.045, 19s per 50 iters\n",
            "time = 29m, epoch 60, iter = 100, train loss = 0.021, 9s per 50 iters\n",
            "epoch 60, validation loss = 1.240\n"
          ]
        }
      ]
    },
    {
      "cell_type": "code",
      "metadata": {
        "id": "tAFGbzffRgBW",
        "colab": {
          "base_uri": "https://localhost:8080/",
          "height": 294
        },
        "outputId": "119f9e90-e3e1-42bf-cb9d-9e1fdb003e1a"
      },
      "source": [
        "import matplotlib.pyplot as plt\n",
        "\n",
        "fig, (ax1, ax2) = plt.subplots(1, 2)\n",
        "fig.suptitle('First Half And Second Half Loss vs Epochs for N = 2: Training')\n",
        "ax1.plot(np.linspace(1, 60, 60), r_loss[::2])\n",
        "ax2.plot(np.linspace(1, 60, 60), r_loss[1::2])\n",
        "plt.show()"
      ],
      "execution_count": null,
      "outputs": [
        {
          "output_type": "display_data",
          "data": {
            "image/png": "[encoded data removed]",
            "text/plain": [
              "<Figure size 432x288 with 2 Axes>"
            ]
          },
          "metadata": {
            "needs_background": "light"
          }
        }
      ]
    },
    {
      "cell_type": "code",
      "metadata": {
        "id": "hcbn-ix9K7Kq",
        "colab": {
          "base_uri": "https://localhost:8080/",
          "height": 294
        },
        "outputId": "a2bd19a9-b89a-4494-f3cf-8f4eb7b2507c"
      },
      "source": [
        "#for val plots\n",
        "#have to generate plots for: loss vs epochs for N = 2 and 6 for dt fixup and wihtout dt fixup. Time taken for training also as screenshots. \n",
        "\n",
        "fig, (ax1, ax2) = plt.subplots(1, 2)\n",
        "fig.suptitle('First Half And Second Half Loss vs Epochs for N = 2: Validation')\n",
        "ax1.plot(np.linspace(1, 30, 30), val_loss[::2])\n",
        "ax2.plot(np.linspace(1, 30, 30), val_loss[1::2])\n",
        "plt.show()"
      ],
      "execution_count": null,
      "outputs": [
        {
          "output_type": "display_data",
          "data": {
            "image/png": "[encoded data removed]",
            "text/plain": [
              "<Figure size 432x288 with 2 Axes>"
            ]
          },
          "metadata": {
            "needs_background": "light"
          }
        }
      ]
    },
    {
      "cell_type": "code",
      "metadata": {
        "id": "bkwFvcCvGJUX",
        "colab": {
          "base_uri": "https://localhost:8080/",
          "height": 265
        },
        "outputId": "d0b40d94-f229-4d83-94d8-30c75ab01d4d"
      },
      "source": [
        "plt.plot(np.linspace(1, 120, 120), r_loss)\n",
        "plt.show()"
      ],
      "execution_count": null,
      "outputs": [
        {
          "output_type": "display_data",
          "data": {
            "image/png": "[encoded data removed]",
            "text/plain": [
              "<Figure size 432x288 with 1 Axes>"
            ]
          },
          "metadata": {
            "needs_background": "light"
          }
        }
      ]
    },
    {
      "cell_type": "code",
      "metadata": {
        "colab": {
          "base_uri": "https://localhost:8080/",
          "height": 294
        },
        "id": "gidUpSMHv0Jn",
        "outputId": "e439d453-65e9-49ba-feb3-4063cf86d82b"
      },
      "source": [
        "import matplotlib.pyplot as plt\n",
        "\n",
        "fig, (ax1, ax2) = plt.subplots(1, 2)\n",
        "fig.suptitle('First Half And Second Half Loss vs Epochs for N = 2: Training')\n",
        "X_axis = np.linspace(1, 60, 60)\n",
        "ax1.plot(X_axis, r_loss[::2], \"b\", label=\"Train\")\n",
        "ax1.plot(X_axis, val_loss, \"r\", label=\"Validation\")\n",
        "ax1.legend(loc=\"upper right\")\n",
        "ax2.plot(X_axis, r_loss[1::2], \"b\", label=\"Train\")\n",
        "ax2.plot(X_axis, val_loss, \"r\", label=\"Validation\")\n",
        "ax2.legend(loc=\"upper right\")\n",
        "plt.show()"
      ],
      "execution_count": null,
      "outputs": [
        {
          "output_type": "display_data",
          "data": {
            "image/png": "[encoded data removed]",
            "text/plain": [
              "<Figure size 432x288 with 2 Axes>"
            ]
          },
          "metadata": {
            "needs_background": "light"
          }
        }
      ]
    },
    {
      "cell_type": "code",
      "metadata": {
        "id": "P3vXmASBYf-k",
        "colab": {
          "base_uri": "https://localhost:8080/",
          "height": 322
        },
        "outputId": "ff886f83-5cb7-42f0-90a9-79f11a0a95f6"
      },
      "source": [
        "print(' '.join(val[1].Text))\n",
        "translate(model, ' '.join(val[1].Text))"
      ],
      "execution_count": null,
      "outputs": [
        {
          "output_type": "stream",
          "name": "stdout",
          "text": [
            "Find i d of the candidate who most recently accessed the course ?\n"
          ]
        },
        {
          "output_type": "error",
          "ename": "AttributeError",
          "evalue": "ignored",
          "traceback": [
            "\u001b[0;31m---------------------------------------------------------------------------\u001b[0m",
            "\u001b[0;31mAttributeError\u001b[0m                            Traceback (most recent call last)",
            "\u001b[0;32m<ipython-input-35-74a7fb30be83>\u001b[0m in \u001b[0;36m<module>\u001b[0;34m()\u001b[0m\n\u001b[1;32m      1\u001b[0m \u001b[0mprint\u001b[0m\u001b[0;34m(\u001b[0m\u001b[0;34m' '\u001b[0m\u001b[0;34m.\u001b[0m\u001b[0mjoin\u001b[0m\u001b[0;34m(\u001b[0m\u001b[0mval\u001b[0m\u001b[0;34m[\u001b[0m\u001b[0;36m1\u001b[0m\u001b[0;34m]\u001b[0m\u001b[0;34m.\u001b[0m\u001b[0mText\u001b[0m\u001b[0;34m)\u001b[0m\u001b[0;34m)\u001b[0m\u001b[0;34m\u001b[0m\u001b[0;34m\u001b[0m\u001b[0m\n\u001b[0;32m----> 2\u001b[0;31m \u001b[0mtranslate\u001b[0m\u001b[0;34m(\u001b[0m\u001b[0mmodel\u001b[0m\u001b[0;34m,\u001b[0m \u001b[0;34m' '\u001b[0m\u001b[0;34m.\u001b[0m\u001b[0mjoin\u001b[0m\u001b[0;34m(\u001b[0m\u001b[0mval\u001b[0m\u001b[0;34m[\u001b[0m\u001b[0;36m1\u001b[0m\u001b[0;34m]\u001b[0m\u001b[0;34m.\u001b[0m\u001b[0mText\u001b[0m\u001b[0;34m)\u001b[0m\u001b[0;34m)\u001b[0m\u001b[0;34m\u001b[0m\u001b[0;34m\u001b[0m\u001b[0m\n\u001b[0m",
            "\u001b[0;32m<ipython-input-28-ac7897cced04>\u001b[0m in \u001b[0;36mtranslate\u001b[0;34m(model, src, max_len)\u001b[0m\n\u001b[1;32m      4\u001b[0m     \u001b[0msrc\u001b[0m \u001b[0;34m=\u001b[0m \u001b[0;34m[\u001b[0m\u001b[0mEN_TEXT\u001b[0m\u001b[0;34m.\u001b[0m\u001b[0mvocab\u001b[0m\u001b[0;34m.\u001b[0m\u001b[0mstoi\u001b[0m\u001b[0;34m[\u001b[0m\u001b[0mi\u001b[0m\u001b[0;34m]\u001b[0m \u001b[0;32mfor\u001b[0m \u001b[0mi\u001b[0m \u001b[0;32min\u001b[0m \u001b[0msrc\u001b[0m\u001b[0;34m]\u001b[0m\u001b[0;34m\u001b[0m\u001b[0;34m\u001b[0m\u001b[0m\n\u001b[1;32m      5\u001b[0m     \u001b[0minput_pad\u001b[0m \u001b[0;34m=\u001b[0m \u001b[0mEN_TEXT\u001b[0m\u001b[0;34m.\u001b[0m\u001b[0mvocab\u001b[0m\u001b[0;34m.\u001b[0m\u001b[0mstoi\u001b[0m\u001b[0;34m[\u001b[0m\u001b[0;34m'<pad>'\u001b[0m\u001b[0;34m]\u001b[0m\u001b[0;34m\u001b[0m\u001b[0;34m\u001b[0m\u001b[0m\n\u001b[0;32m----> 6\u001b[0;31m     \u001b[0msrc_msk\u001b[0m \u001b[0;34m=\u001b[0m \u001b[0;34m(\u001b[0m\u001b[0msrc\u001b[0m \u001b[0;34m!=\u001b[0m \u001b[0minput_pad\u001b[0m\u001b[0;34m)\u001b[0m\u001b[0;34m.\u001b[0m\u001b[0munsqueeze\u001b[0m\u001b[0;34m(\u001b[0m\u001b[0;36m1\u001b[0m\u001b[0;34m)\u001b[0m \u001b[0;31m#Have to fix this part i think\u001b[0m\u001b[0;34m\u001b[0m\u001b[0;34m\u001b[0m\u001b[0m\n\u001b[0m\u001b[1;32m      7\u001b[0m     \u001b[0msrc_mask\u001b[0m \u001b[0;34m=\u001b[0m \u001b[0msrc_msk\u001b[0m\u001b[0;34m.\u001b[0m\u001b[0mto\u001b[0m\u001b[0;34m(\u001b[0m\u001b[0mdevice\u001b[0m\u001b[0;34m)\u001b[0m\u001b[0;34m\u001b[0m\u001b[0;34m\u001b[0m\u001b[0m\n\u001b[1;32m      8\u001b[0m     \u001b[0me_outputs\u001b[0m \u001b[0;34m=\u001b[0m \u001b[0mmodel\u001b[0m\u001b[0;34m.\u001b[0m\u001b[0mencoder\u001b[0m\u001b[0;34m(\u001b[0m\u001b[0msrc\u001b[0m\u001b[0;34m,\u001b[0m \u001b[0msrc_mask\u001b[0m\u001b[0;34m)\u001b[0m\u001b[0;34m\u001b[0m\u001b[0;34m\u001b[0m\u001b[0m\n",
            "\u001b[0;31mAttributeError\u001b[0m: 'bool' object has no attribute 'unsqueeze'"
          ]
        }
      ]
    },
    {
      "cell_type": "code",
      "metadata": {
        "id": "NvGQjm-kg31r"
      },
      "source": [
        "test_loss = []\n",
        "for item in val:\n",
        "    if translate(model, item.Text) == item.SQL:\n",
        "        test_loss.append(1)\n",
        "    else:\n",
        "        test_loss.append(0)\n",
        "\n",
        "print(test_loss.count(1)/len(test_loss) * 100)"
      ],
      "execution_count": null,
      "outputs": []
    }
  ]
}